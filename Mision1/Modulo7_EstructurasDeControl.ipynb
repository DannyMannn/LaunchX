{
 "cells": [
  {
   "cell_type": "markdown",
   "metadata": {},
   "source": [
    "# Ejercicios 1 y 2: Creación De Un Bucle While y Uso del For"
   ]
  },
  {
   "cell_type": "code",
   "execution_count": 5,
   "metadata": {},
   "outputs": [
    {
     "name": "stdout",
     "output_type": "stream",
     "text": [
      "Planetas ingresadas: \n",
      "earth\n",
      "mars\n",
      "venus\n",
      "uranus\n",
      "jupiter\n"
     ]
    }
   ],
   "source": [
    "planets = []\n",
    "new_planet = \"\"\n",
    "while(True):\n",
    "    new_planet = input(\"Ingresa Planeta: \")\n",
    "    if(new_planet == \"done\"):\n",
    "        break\n",
    "    elif(new_planet != ''):\n",
    "        planets.append(new_planet)\n",
    "\n",
    "print(\"Planetas ingresadas: \")\n",
    "for planet in planets:\n",
    "    print(planet)"
   ]
  }
 ],
 "metadata": {
  "interpreter": {
   "hash": "5322818cae43cf6468214953b049884cb6ca7e8071f01fca2a6d6ce521d192bd"
  },
  "kernelspec": {
   "display_name": "Python 3.10.1 64-bit",
   "language": "python",
   "name": "python3"
  },
  "language_info": {
   "codemirror_mode": {
    "name": "ipython",
    "version": 3
   },
   "file_extension": ".py",
   "mimetype": "text/x-python",
   "name": "python",
   "nbconvert_exporter": "python",
   "pygments_lexer": "ipython3",
   "version": "3.10.1"
  },
  "orig_nbformat": 4
 },
 "nbformat": 4,
 "nbformat_minor": 2
}
