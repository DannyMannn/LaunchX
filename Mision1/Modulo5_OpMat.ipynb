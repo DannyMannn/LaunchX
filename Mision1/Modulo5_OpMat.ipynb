{
 "cells": [
  {
   "cell_type": "markdown",
   "metadata": {},
   "source": [
    "# Ejercicio1 - Utilizar operadores aritméticos"
   ]
  },
  {
   "cell_type": "code",
   "execution_count": 4,
   "metadata": {},
   "outputs": [
    {
     "name": "stdout",
     "output_type": "stream",
     "text": [
      "Distancia de Jupiter a la Tierra: \n",
      "628949330 km\n",
      "390810995 mi\n"
     ]
    }
   ],
   "source": [
    "#Distancias de planetas desde el sol\n",
    "earth_distance = 149597870\n",
    "jupiter_distance  = 778547200\n",
    "miles_to_km = 1.609344\n",
    "\n",
    "jupiter_earth_distance = jupiter_distance - earth_distance\n",
    "jupiter_earth_distance_miles = int(jupiter_earth_distance / miles_to_km)\n",
    "\n",
    "print(\"Distancia de Jupiter a la Tierra: \")\n",
    "print(str(jupiter_earth_distance) + \" km\")\n",
    "print(str(jupiter_earth_distance_miles) + \" mi\")"
   ]
  },
  {
   "cell_type": "markdown",
   "metadata": {},
   "source": [
    "# Ejercicio 2: convierte cadenas en números y usa valores absolutos"
   ]
  },
  {
   "cell_type": "code",
   "execution_count": 5,
   "metadata": {},
   "outputs": [
    {
     "name": "stdout",
     "output_type": "stream",
     "text": [
      "Distancia entre los dos planetas: \n",
      "\n",
      "50300000 km\n",
      "31254970.969537895 mi\n"
     ]
    }
   ],
   "source": [
    "#disancias de planetas del sol\n",
    "miles_to_km = 1.609344\n",
    "\n",
    "message = \"Ingrese la distance entre el sol y el planeta: \"\n",
    "distance_planet1 = int(input(\"Planeta 1: \" + message))\n",
    "\n",
    "distance_planet2 = int(input(\"Planeta 2: \" + message))\n",
    "\n",
    "distance = abs(distance_planet1 - distance_planet2)\n",
    "print(\"Distancia entre los dos planetas: \")\n",
    "print()\n",
    "# Se usó Mercurio: 57900000 y Venus: 108200000\n",
    "print(str(distance) + \" km\")\n",
    "print(str(distance / miles_to_km) + \" mi\")"
   ]
  }
 ],
 "metadata": {
  "interpreter": {
   "hash": "5322818cae43cf6468214953b049884cb6ca7e8071f01fca2a6d6ce521d192bd"
  },
  "kernelspec": {
   "display_name": "Python 3.10.1 64-bit",
   "language": "python",
   "name": "python3"
  },
  "language_info": {
   "codemirror_mode": {
    "name": "ipython",
    "version": 3
   },
   "file_extension": ".py",
   "mimetype": "text/x-python",
   "name": "python",
   "nbconvert_exporter": "python",
   "pygments_lexer": "ipython3",
   "version": "3.10.1"
  },
  "orig_nbformat": 4
 },
 "nbformat": 4,
 "nbformat_minor": 2
}
