{
 "cells": [
  {
   "cell_type": "markdown",
   "metadata": {},
   "source": [
    "# Ejercicio1: Crear y usar listas de Python\n",
    "##### Ejercicio: Usar listas para almacenar nombres de planetas"
   ]
  },
  {
   "cell_type": "code",
   "execution_count": 3,
   "metadata": {},
   "outputs": [
    {
     "name": "stdout",
     "output_type": "stream",
     "text": [
      "Hay 8 planetas en nuestro sistema solar.\n",
      "['MERCURY', 'VENUS', 'EARTH', 'MARS', 'JUPITER', 'SATURN', 'URANUS', 'NEPTUNE']\n",
      "New planet added: PLUTO\n"
     ]
    }
   ],
   "source": [
    "#EJERCICIO 1\n",
    "planets = [\"MERCURY\", \"VENUS\", \"EARTH\", \"MARS\", \"JUPITER\", \"SATURN\", \"URANUS\", \"NEPTUNE\"]\n",
    "\n",
    "print(\"Hay \" + str(len(planets)) + \" planetas en nuestro sistema solar.\")\n",
    "print(planets)\n",
    "planets.append(\"PLUTO\")\n",
    "print(\"New planet added: \" + planets[-1])"
   ]
  },
  {
   "cell_type": "markdown",
   "metadata": {},
   "source": [
    "# Ejercicio 2"
   ]
  },
  {
   "cell_type": "code",
   "execution_count": 7,
   "metadata": {},
   "outputs": [
    {
     "name": "stdout",
     "output_type": "stream",
     "text": [
      "Planetas más cercanas al sol que SATURN: \n",
      "['MERCURY', 'VENUS', 'EARTH', 'MARS', 'JUPITER']\n",
      "Planetas más lejanas al sol que SATURN: \n",
      "['URANUS', 'NEPTUNE']\n"
     ]
    }
   ],
   "source": [
    "planets = [\"MERCURY\", \"VENUS\", \"EARTH\", \"MARS\", \"JUPITER\", \"SATURN\", \"URANUS\", \"NEPTUNE\"]\n",
    "planet = input(\"Ingresa un planeta: \").upper()\n",
    "planet_index = planets.index(planet)\n",
    "\n",
    "print(f\"Planetas más cercanas al sol que {planet}: \")\n",
    "print(planets[0:planet_index])\n",
    "\n",
    "print(f\"Planetas más lejanas al sol que {planet}: \")\n",
    "print(planets[planet_index + 1:])"
   ]
  }
 ],
 "metadata": {
  "interpreter": {
   "hash": "5322818cae43cf6468214953b049884cb6ca7e8071f01fca2a6d6ce521d192bd"
  },
  "kernelspec": {
   "display_name": "Python 3.10.1 64-bit",
   "language": "python",
   "name": "python3"
  },
  "language_info": {
   "codemirror_mode": {
    "name": "ipython",
    "version": 3
   },
   "file_extension": ".py",
   "mimetype": "text/x-python",
   "name": "python",
   "nbconvert_exporter": "python",
   "pygments_lexer": "ipython3",
   "version": "3.10.1"
  },
  "orig_nbformat": 4
 },
 "nbformat": 4,
 "nbformat_minor": 2
}
