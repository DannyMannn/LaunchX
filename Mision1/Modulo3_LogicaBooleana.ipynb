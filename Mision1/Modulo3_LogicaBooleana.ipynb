{
 "cells": [
  {
   "cell_type": "markdown",
   "metadata": {},
   "source": [
    "# Logica Booleana"
   ]
  },
  {
   "cell_type": "markdown",
   "metadata": {},
   "source": [
    "#### Código para advertir la gente de la Tierra de un asteroide"
   ]
  },
  {
   "cell_type": "code",
   "execution_count": 3,
   "metadata": {},
   "outputs": [
    {
     "name": "stdout",
     "output_type": "stream",
     "text": [
      "Se acerca demasiado rápido a la Tierra el asteriode!\n"
     ]
    }
   ],
   "source": [
    "space_asteroid_speed = 49\n",
    "atmosphere_asteroid_speed = 19\n",
    "\n",
    "space_asteroid_speed_warning = 25\n",
    "atmosphere_asteroid_speed_warning = 20\n",
    "\n",
    "if(space_asteroid_speed > space_asteroid_speed_warning):\n",
    "    print(\"Se acerca demasiado rápido a la Tierra el asteriode!\")\n",
    "elif(atmosphere_asteroid_speed >= atmosphere_asteroid_speed_warning):\n",
    "    print(\"Ha entrado un asteriode peligroso a la atmósfera de la Tierra!\")\n",
    "else:\n",
    "    print(\"Todo seguro\")\n"
   ]
  },
  {
   "cell_type": "markdown",
   "metadata": {},
   "source": [
    "#### Uso de Operadores de and y or"
   ]
  },
  {
   "cell_type": "code",
   "execution_count": 4,
   "metadata": {},
   "outputs": [
    {
     "name": "stdout",
     "output_type": "stream",
     "text": [
      "Se acerca un asteroide gigante.\n"
     ]
    }
   ],
   "source": [
    "space_asteroid_speed = 49\n",
    "atmosphere_asteroid_speed = 19\n",
    "asteroid_size = 50\n",
    "\n",
    "space_asteroid_speed_warning = 25\n",
    "atmosphere_asteroid_speed_warning = 20\n",
    "asteroid_size_warning = 25\n",
    "\n",
    "if asteroid_size > asteroid_size_warning and atmosphere_asteroid_speed > atmosphere_asteroid_speed_warning: \n",
    "    print(\"Se acerca un asteroide peligroso\")\n",
    "elif(asteroid_size > asteroid_size_warning):\n",
    "    print(\"Se acerca un asteroide gigante.\")\n",
    "elif(atmosphere_asteroid_speed > atmosphere_asteroid_speed_warning):\n",
    "    print(\"Se acerca un asteroide veloz.\")\n",
    "else:\n",
    "    print(\"Todo seguro\")\n",
    "\n",
    "\n"
   ]
  }
 ],
 "metadata": {
  "interpreter": {
   "hash": "5322818cae43cf6468214953b049884cb6ca7e8071f01fca2a6d6ce521d192bd"
  },
  "kernelspec": {
   "display_name": "Python 3.10.1 64-bit",
   "language": "python",
   "name": "python3"
  },
  "language_info": {
   "codemirror_mode": {
    "name": "ipython",
    "version": 3
   },
   "file_extension": ".py",
   "mimetype": "text/x-python",
   "name": "python",
   "nbconvert_exporter": "python",
   "pygments_lexer": "ipython3",
   "version": "3.10.1"
  },
  "orig_nbformat": 4
 },
 "nbformat": 4,
 "nbformat_minor": 2
}
