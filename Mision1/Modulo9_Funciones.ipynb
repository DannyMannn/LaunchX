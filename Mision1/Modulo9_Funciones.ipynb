{
 "cells": [
  {
   "cell_type": "markdown",
   "metadata": {},
   "source": [
    "# Ejercicio: Uso de funciones en Python\n",
    "##### Ejercicio 1: Trabajar con argumentos en funciones"
   ]
  },
  {
   "cell_type": "code",
   "execution_count": 7,
   "metadata": {},
   "outputs": [
    {
     "name": "stdout",
     "output_type": "stream",
     "text": [
      "\n",
      "    Informe\n",
      "    Tanque 1: 40\n",
      "    Takque 2: 50\n",
      "    Tanque 3: 100\n",
      "    Promedio: 63.333333333333336\n",
      "\n",
      "    Informe\n",
      "    Tanque 1: 40\n",
      "    Takque 2: 50\n",
      "    Tanque 3: 100\n",
      "    Promedio: 63.333333333333336\n"
     ]
    }
   ],
   "source": [
    "def generar_informe_y_promedio(tank1, tank2, tank3):\n",
    "    promedio = (tank1 + tank2 + tank3) / 3\n",
    "    informe = f\"\"\"\n",
    "    Informe\n",
    "    Tanque 1: { tank1 }\n",
    "    Takque 2: { tank2 }\n",
    "    Tanque 3: { tank3 }\n",
    "    Promedio: { promedio }\"\"\"\n",
    "    return informe\n",
    "\n",
    "def generar_informe(tanks):\n",
    "    promedio = get_promedio(tanks)\n",
    "    informe = f\"\"\"\n",
    "    Informe\n",
    "    Tanque 1: { tanks[0] }\n",
    "    Takque 2: { tanks[1] }\n",
    "    Tanque 3: { tanks[2] }\n",
    "    Promedio: { promedio }\"\"\"\n",
    "    return informe\n",
    "\n",
    "def get_promedio(values):\n",
    "    return sum(values) / len(values)\n",
    "\n",
    "print(generar_informe_y_promedio(40, 50, 100))\n",
    "print(generar_informe([40, 50, 100]))"
   ]
  },
  {
   "cell_type": "markdown",
   "metadata": {},
   "source": [
    "# Ejercicio 2: Trabajo con argumentos de palabra clave\n",
    "#### Ejercicio : Trabajar con argumentos de palabras clave en funciones"
   ]
  },
  {
   "cell_type": "code",
   "execution_count": 19,
   "metadata": {},
   "outputs": [
    {
     "name": "stdout",
     "output_type": "stream",
     "text": [
      "\n",
      "Hora de Lanzamiento: 10:20 pm\n",
      "Tiempo de Vuelo: 1000 minutos\n",
      "Destino: Jupiter\n",
      "Tiempos Considerados:\n",
      "Tiempo (minutos): 100\n",
      "Tiempo (minutos): 90\n",
      "Tiempo (minutos): 94\n",
      "Tiempo (minutos): 95\n",
      "Tankques Considerados:\n",
      "tankque_multiple: 100\n",
      "tanque_rojo: 91\n",
      "tanque_interior: 99\n",
      "tanque_exterior: 100\n",
      "\n"
     ]
    }
   ],
   "source": [
    "def get_informe(hora_lanzamiento, tiempo_vuelo, destino, tanque_externo, tanque_intero):\n",
    "    informe = f\"\"\"\n",
    "    Hora de Lanzamiento: { hora_lanzamiento }\n",
    "    Tiempo de Vuelo: { tiempo_vuelo }\n",
    "    Destino: { destino }\n",
    "    Tanque Externo: { tanque_externo }\n",
    "    Tanque Interno: { tanque_intero }\"\"\"\n",
    "    return informe\n",
    "\n",
    "def get_informe_multiple(hora_lanzamiento, tiempo_vuelo, destino, *minutes, **tanks):\n",
    "    informe = f\"\"\"\n",
    "Hora de Lanzamiento: { hora_lanzamiento }\n",
    "Tiempo de Vuelo: { tiempo_vuelo }\n",
    "Destino: { destino }\n",
    "Tiempos Considerados:\n",
    "\"\"\"\n",
    "\n",
    "    for minute in minutes:\n",
    "        informe += f\"Tiempo (minutos): { minute }\\n\"\n",
    "    \n",
    "    informe += \"Tankques Considerados:\\n\"\n",
    "    for tank_name, tank_content in tanks.items():\n",
    "        informe += f\"{ tank_name }: { tank_content }\\n\"\n",
    "    return informe\n",
    "\n",
    "\n",
    "#print(get_informe(\"10:20 pm\", 1000, \"Jupiter\", 100, 100))\n",
    "print(get_informe_multiple(\"10:20 pm\", \"1000 minutos\", \"Jupiter\",\n",
    "100, 90, 94, 95,\n",
    "tankque_multiple = 100, tanque_rojo = 91, tanque_interior = 99, tanque_exterior = 100))\n",
    "\n"
   ]
  }
 ],
 "metadata": {
  "interpreter": {
   "hash": "5322818cae43cf6468214953b049884cb6ca7e8071f01fca2a6d6ce521d192bd"
  },
  "kernelspec": {
   "display_name": "Python 3.10.1 64-bit",
   "language": "python",
   "name": "python3"
  },
  "language_info": {
   "codemirror_mode": {
    "name": "ipython",
    "version": 3
   },
   "file_extension": ".py",
   "mimetype": "text/x-python",
   "name": "python",
   "nbconvert_exporter": "python",
   "pygments_lexer": "ipython3",
   "version": "3.10.1"
  },
  "orig_nbformat": 4
 },
 "nbformat": 4,
 "nbformat_minor": 2
}
