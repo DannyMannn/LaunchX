{
 "cells": [
  {
   "cell_type": "markdown",
   "metadata": {},
   "source": [
    "# Creación de un entorno virtual"
   ]
  },
  {
   "cell_type": "markdown",
   "metadata": {},
   "source": [
    "### Pasos \n",
    "###### 1. \"python -m venv env\" para crear el entorno (desde la terminal)\n",
    "###### 2. \"env\\Scripts\\activate\" para activar el entorno virtual\n",
    "###### 3. \"pip freeze\" para ver qué dependencias existen en el entorno\n",
    "###### 4. \"pip install python-dateutil\" para instalar una nueva dependencia\n",
    "###### 5. \"pip freeze\" de nuevo para qué nuevas dependencias existen después de haber instalado dateutil\n",
    "###### 6. \"deactivate\" para salir del entorno virtual\n",
    "#### Esta carpeta env es comprobación de que se realizó el ejercicio del módulo 2 "
   ]
  }
 ],
 "metadata": {
  "language_info": {
   "name": "python"
  },
  "orig_nbformat": 4
 },
 "nbformat": 4,
 "nbformat_minor": 2
}
