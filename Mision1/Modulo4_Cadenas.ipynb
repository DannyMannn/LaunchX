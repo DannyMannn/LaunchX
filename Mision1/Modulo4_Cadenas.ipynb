{
 "cells": [
  {
   "cell_type": "markdown",
   "metadata": {},
   "source": [
    "# Información de la Luna"
   ]
  },
  {
   "cell_type": "markdown",
   "metadata": {},
   "source": [
    "### Ejercicio 1\n",
    "###### 1.1 Divide el texto en cada oración para trabajar con su contenido\n",
    "###### 1.2 Ahora, define algunas palabras clave para búsqueda que te ayudarán a determinar si una oración contiene un hecho.\n",
    "###### 1.3 Actualiza el bucle(ciclo) para cambiar C a Celsius:"
   ]
  },
  {
   "cell_type": "code",
   "execution_count": 2,
   "metadata": {},
   "outputs": [
    {
     "name": "stdout",
     "output_type": "stream",
     "text": [
      "On average, the Moon moves 4cm away from the Earth every year\n",
      "The highest daylight temperature of the Moon is 127 C\n",
      "The highest daylight temperature of the Moon is 127 Celsius\n"
     ]
    }
   ],
   "source": [
    "text = \"\"\"Interesting facts about the Moon. The Moon is Earth's only satellite. There are several interesting facts about the Moon and how it affects life here on Earth. \n",
    "On average, the Moon moves 4cm away from the Earth every year. This yearly drift is not significant enough to cause immediate effects on Earth. The highest daylight temperature of the Moon is 127 C.\"\"\"\n",
    "#Ejercicio 1.1\n",
    "text_sentences = text.split(\".\")\n",
    "\n",
    "#Ejercicio 1.2\n",
    "key_words = [\"average\", \"temperature\", \"distance\"]\n",
    "for sentence in text_sentences:\n",
    "    for key_word in key_words:\n",
    "        if(key_word in sentence):\n",
    "            print(sentence.strip())\n",
    "            break\n",
    "\n",
    "#Ejercicio 1.3\n",
    "for sentence in text_sentences:\n",
    "    index = sentence.find(\"C\")\n",
    "    if index >= 0:\n",
    "        replaced_sentenced = sentence.replace(\"C\", \"Celsius\")\n",
    "\n",
    "print(replaced_sentenced.strip())"
   ]
  },
  {
   "cell_type": "markdown",
   "metadata": {},
   "source": [
    "### Ejercicio 2"
   ]
  },
  {
   "cell_type": "code",
   "execution_count": 6,
   "metadata": {},
   "outputs": [
    {
     "name": "stdout",
     "output_type": "stream",
     "text": [
      "\n",
      "    Facts about the Moon and the Earth\n",
      "    --------------------------------------------------\n",
      "    Planet Name: Earth\n",
      "    Gravity on Moon: 1.6199999999999999 m/s2\n",
      "\n",
      "    Facts about the Ganímedes and the Marte\n",
      "    --------------------------------------------------\n",
      "    Planet Name: Marte\n",
      "    Gravity on Ganímedes: 1.4300000000000002 m/s2\n"
     ]
    }
   ],
   "source": [
    "def information_template(planet, name, gravity):\n",
    "    the_title = f\"Facts about the { name } and the { planet }\"\n",
    "    the_title.format(name = name, planet = planet).title()\n",
    "\n",
    "    return  f\"\"\"\n",
    "    { the_title }\n",
    "    {\"-\"*50}\n",
    "    Planet Name: { planet }\n",
    "    Gravity on { name }: {gravity * 1000} m/s2\"\"\"\n",
    "\n",
    "# Datos con los que vas a trabajar\n",
    "name1 = \"Moon\"\n",
    "gravity1 = 0.00162 # in kms\n",
    "planet1 = \"Earth\"\n",
    "paragraph1 = information_template(planet1, name1, gravity1)\n",
    "\n",
    "name2 = \"Ganímedes\"\n",
    "planet2 = \"Marte\"\n",
    "gravity2 = 0.00143\n",
    "paragraph2 = information_template(planet2, name2, gravity2)\n",
    "\n",
    "print(paragraph1)\n",
    "print(paragraph2)"
   ]
  }
 ],
 "metadata": {
  "interpreter": {
   "hash": "5322818cae43cf6468214953b049884cb6ca7e8071f01fca2a6d6ce521d192bd"
  },
  "kernelspec": {
   "display_name": "Python 3.10.1 64-bit",
   "language": "python",
   "name": "python3"
  },
  "language_info": {
   "codemirror_mode": {
    "name": "ipython",
    "version": 3
   },
   "file_extension": ".py",
   "mimetype": "text/x-python",
   "name": "python",
   "nbconvert_exporter": "python",
   "pygments_lexer": "ipython3",
   "version": "3.10.1"
  },
  "orig_nbformat": 4
 },
 "nbformat": 4,
 "nbformat_minor": 2
}
